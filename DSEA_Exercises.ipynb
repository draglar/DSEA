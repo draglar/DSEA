{
  "nbformat": 4,
  "nbformat_minor": 0,
  "metadata": {
    "colab": {
      "name": "DSEA_Exercises.ipynb",
      "provenance": [],
      "authorship_tag": "ABX9TyPa1ske8aq4Pr/2BxwHfcTf",
      "include_colab_link": true
    },
    "kernelspec": {
      "name": "python3",
      "display_name": "Python 3"
    }
  },
  "cells": [
    {
      "cell_type": "markdown",
      "metadata": {
        "id": "view-in-github",
        "colab_type": "text"
      },
      "source": [
        "<a href=\"https://colab.research.google.com/github/draglar/DSEA/blob/main/DSEA_Exercises.ipynb\" target=\"_parent\"><img src=\"https://colab.research.google.com/assets/colab-badge.svg\" alt=\"Open In Colab\"/></a>"
      ]
    },
    {
      "cell_type": "markdown",
      "metadata": {
        "id": "EEEOLyEvile2"
      },
      "source": [
        "> write a program to find the difference between a given number and 17, If the number is greater than 17 return double the absolute difference"
      ]
    },
    {
      "cell_type": "code",
      "metadata": {
        "id": "5hEYyRu0ecTj",
        "outputId": "ca325a23-c8fd-4cde-8578-6abdc0094574",
        "colab": {
          "base_uri": "https://localhost:8080/"
        }
      },
      "source": [
        "x=17\n",
        "inp=int(input('Enter the number: '))\n",
        "if inp>17:\n",
        "  diff=inp-17\n",
        "  print(f'The differnence between {inp} and 17 is {diff}')\n",
        "  print('Double the absolute difference is :',diff*2)\n",
        "elif inp==17:\n",
        "  print('Input value is 17 hence no difference')\n",
        "else:\n",
        "  print('Is less than 17')"
      ],
      "execution_count": 5,
      "outputs": [
        {
          "output_type": "stream",
          "text": [
            "Enter the number: 55\n",
            "The differnence between 55 and 17 is 38\n",
            "Double the absolute difference is : 76\n"
          ],
          "name": "stdout"
        }
      ]
    },
    {
      "cell_type": "markdown",
      "metadata": {
        "id": "5pAnAYLni2Kn"
      },
      "source": [
        "> Write a python program to differentiate f(x) = 2x^2 + 3 "
      ]
    },
    {
      "cell_type": "code",
      "metadata": {
        "id": "Ft6HdWdSi2__",
        "outputId": "9b99887c-f24f-40d1-bd3d-0e9ff32b9e4a",
        "colab": {
          "base_uri": "https://localhost:8080/"
        }
      },
      "source": [
        "#equation in the form f(x)= 2x^2 +3\n",
        "print('differentiation of 2x^2 + 2x + 3 will be (4x^1 + 2x^0) or (4x + 2)')\n",
        "def feed():\n",
        "  xx=int(input('enter the highest degree of x: '))\n",
        "  eqn=[0 for i in range(xx+1)]\n",
        "  diff=[0 for i in range(xx+1)]\n",
        "  print('Arrange your equation in descending powers of x \\n if the value is not present enter 0 \\n  x^0=1 therefore (x^0)3 == 3 \\n')\n",
        "  for i in range(xx+1):\n",
        "    eqn[i]=int(input(f'enter value  of x^{xx-i}: '))\n",
        "  print(f'for the equation f(x)')\n",
        "  for i in range(len(eqn)):\n",
        "    if eqn[i]>0:\n",
        "      print(f'{eqn[i]} x^{(len(eqn)-1)-i}')\n",
        "  differ(eqn)\n",
        "def differ(eqn):\n",
        "  diff=[0 for i in range(len(eqn))]\n",
        "  for i in range(len(eqn)):\n",
        "    val=(len(eqn)-1)-i\n",
        "    diff[i]=eqn[i]*val\n",
        "  print('differentiated equation f(x) is as follows')\n",
        "  for i in range(len(diff)):\n",
        "      if diff[i]>0:\n",
        "        print(f'{diff[i]} x^{(len(diff)-2)-i}')\n",
        "feed()"
      ],
      "execution_count": 37,
      "outputs": [
        {
          "output_type": "stream",
          "text": [
            "differentiation of 2x^2 + 2x + 3 will be (4x^1 + 2x^0) or (4x + 2)\n",
            "enter the highest degree of x: 2\n",
            "Arrange your equation in descending powers of x \n",
            " if the value is not present enter 0 \n",
            "  x^0=1 therefore (x^0)3 == 3 \n",
            "\n",
            "enter value  of x^2: 2\n",
            "enter value  of x^1: 0\n",
            "enter value  of x^0: 3\n",
            "for the equation f(x)\n",
            "2 x^2\n",
            "3 x^0\n",
            "differentiated equation f(x) is as follows\n",
            "4 x^1\n"
          ],
          "name": "stdout"
        }
      ]
    }
  ]
}